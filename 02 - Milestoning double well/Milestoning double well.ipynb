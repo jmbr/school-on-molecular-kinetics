{
 "cells": [
  {
   "cell_type": "markdown",
   "metadata": {},
   "source": [
    "# Simple example of milestoning\n",
    "\n",
    "Here we do milestoning on a double well potential and study the behavior of the mean first passage time."
   ]
  },
  {
   "cell_type": "code",
   "execution_count": 1,
   "metadata": {
    "collapsed": false
   },
   "outputs": [],
   "source": [
    "%matplotlib inline\n",
    "import milestoning\n",
    "\n",
    "import numpy as np\n",
    "import matplotlib.pyplot as plt\n",
    "import scipy\n",
    "\n",
    "np.set_printoptions(precision=4)"
   ]
  },
  {
   "cell_type": "markdown",
   "metadata": {},
   "source": [
    "## Setting the system up"
   ]
  },
  {
   "cell_type": "markdown",
   "metadata": {},
   "source": [
    "First, let us define our potential energy function.  It will be a double well potential with its shallowest well fixed at (-1, 0), the saddle point is at (0, `height`), and the deepest well is located at (1, `depth`)."
   ]
  },
  {
   "cell_type": "code",
   "execution_count": 2,
   "metadata": {
    "collapsed": false
   },
   "outputs": [
    {
     "data": {
      "image/png": "[encoded data removed]",
      "text/plain": [
       "<matplotlib.figure.Figure at 0x7f4ab9bb5c88>"
      ]
     },
     "metadata": {},
     "output_type": "display_data"
    }
   ],
   "source": [
    "height = 1\n",
    "depth = 1\n",
    "potential = milestoning.Potential(height, depth)\n",
    "potential.plot()"
   ]
  },
  {
   "cell_type": "markdown",
   "metadata": {},
   "source": [
    "## Computing the mean first passage time from reactant to product."
   ]
  },
  {
   "cell_type": "markdown",
   "metadata": {},
   "source": [
    "There is a closed-form expression for the mean first passage time for one-dimensional systems (see also [1] for details). Indeed, the mean first passage time of a process initiated at $z$ and stopped whenever it exits the interval $(a, b)$ is given by\n",
    "\\begin{equation}\n",
    "  \\langle T \\rangle = \\int_a^b v(x; z) \\, \\mathrm{d} x,\n",
    "\\end{equation}\n",
    "where the occupation density, $v$, is defined by\n",
    "\\begin{equation}\n",
    "  v(x; z) = \\beta \\, \\int_a^x \\left( G(z) - H(\\xi - z) \\right) \\mathrm{e}^{\\beta (U(\\xi) - U(x))} \\, \\mathrm{d} \\xi,\n",
    "  \\quad \\text{where} \\quad\n",
    "  G(z) = \\frac{\\int_{z}^b \\mathrm{e}^{ \\beta U(\\eta) } \\, \\mathrm{d} \\eta}{\\int_a^b \\mathrm{e}^{ \\beta U(\\eta) } \\, \\mathrm{d} \\eta},\n",
    "\\end{equation}\n",
    "and $H$ is the Heaviside step function.\n",
    "\n",
    "Before computing the MFPT we need to specify some of the parameters required for the computation.\n",
    "\n",
    "First, we specify the value of `a`, which is the leftmost point to be considered (the potential is such that the probability of finding the system beyond this point is negligible).\n",
    "Next, we specify `b`, which is the position of the product state.\n",
    "Finally, we set the location `z` of the reactant and the temperature through the variable `beta`.\n",
    "The variable `q` determines the \"mass\" at the reactant state.\n",
    "\n",
    "[1] Bello-Rivas, J. M., & Elber, R. (2016). Simulations of thermodynamics and kinetics on rough energy landscapes with milestoning. Journal of Computational Chemistry, 37(6), 602–613. [doi:10.1002/jcc.24039](doi:10.1002/jcc.24039)"
   ]
  },
  {
   "cell_type": "code",
   "execution_count": 3,
   "metadata": {
    "collapsed": true
   },
   "outputs": [],
   "source": [
    "a = -2\n",
    "b = 3/4\n",
    "z = -1\n",
    "\n",
    "beta = 1"
   ]
  },
  {
   "cell_type": "code",
   "execution_count": 4,
   "metadata": {
    "collapsed": false
   },
   "outputs": [
    {
     "data": {
      "image/png": "[encoded data removed]",
      "text/plain": [
       "<matplotlib.figure.Figure at 0x7f4aab5b96d8>"
      ]
     },
     "metadata": {},
     "output_type": "display_data"
    }
   ],
   "source": [
    "v = milestoning.OccupationDensity(potential, beta, a, b, z)\n",
    "v.plot()"
   ]
  },
  {
   "cell_type": "markdown",
   "metadata": {},
   "source": [
    "The mean first passage time is the integral of the occupation density."
   ]
  },
  {
   "cell_type": "code",
   "execution_count": 5,
   "metadata": {
    "collapsed": false
   },
   "outputs": [
    {
     "name": "stdout",
     "output_type": "stream",
     "text": [
      "The global mean first passage time is 2.636350336714919\n"
     ]
    }
   ],
   "source": [
    "results = scipy.integrate.quad(v, a, b, full_output=1, points=[z])\n",
    "mfpt_reference = results[0]\n",
    "print('The global mean first passage time is {}'.format(mfpt_reference))"
   ]
  },
  {
   "cell_type": "markdown",
   "metadata": {},
   "source": [
    "## Comparison with milestoning"
   ]
  },
  {
   "cell_type": "markdown",
   "metadata": {},
   "source": [
    "First we will define a set of milestones and then we will use the occupation density to compute the transition probabilities and the local mean first passage times.  Finally, we will obtain an estimate of the MFPT from reactant to product using the transition probabilities and the local MFPTs.\n",
    "\n",
    "The $x$ coordinates of our milestones are the entries of the `milestones` array below."
   ]
  },
  {
   "cell_type": "code",
   "execution_count": 6,
   "metadata": {
    "collapsed": false
   },
   "outputs": [
    {
     "name": "stdout",
     "output_type": "stream",
     "text": [
      "[-1.     -0.5625 -0.125   0.3125  0.75  ]\n"
     ]
    }
   ],
   "source": [
    "M = 5   # Number of milestones\n",
    "milestones = np.linspace(-1, 0.75, M)\n",
    "\n",
    "print(milestones)"
   ]
  },
  {
   "cell_type": "markdown",
   "metadata": {},
   "source": [
    "Observe that the reactant coincides with the first milestone and the product lies at the last milestone."
   ]
  },
  {
   "cell_type": "code",
   "execution_count": 7,
   "metadata": {
    "collapsed": false
   },
   "outputs": [
    {
     "data": {
      "image/png": "[encoded data removed]",
      "text/plain": [
       "<matplotlib.figure.Figure at 0x7f4adacaf208>"
      ]
     },
     "metadata": {},
     "output_type": "display_data"
    }
   ],
   "source": [
    "potential.plot()\n",
    "for milestone in milestones:\n",
    "    plt.axvline(milestone, color='gray', linewidth=1.5)"
   ]
  },
  {
   "cell_type": "markdown",
   "metadata": {},
   "source": [
    "Now we will go through each milestone obtaining the transition probabilities and the local mean first passage times.\n",
    "\n",
    "For a given milestone, $M_i$, the transition probability at each neighboring milestone, $M_j$ with $j = i \\pm 1$, is defined as:\n",
    "\\begin{equation}\n",
    "K_{i j} = \\frac{\\int\\limits_{M_j} \\frac{\\partial v_i}{\\partial n} \\, \\mathrm{d} \\sigma}{\\int\\limits_{M_{i-1}} \\frac{\\partial v_i}{\\partial n} \\, \\mathrm{d} \\sigma + \\int\\limits_{M_{i+1}} \\frac{\\partial v_i}{\\partial n} \\, \\mathrm{d} \\sigma},\n",
    "%K_{i j} = C_i^{-1} \\, \\int_{M_j} \\frac{\\partial v_i}{\\partial n} \\, \\mathrm{d} \\sigma,\n",
    "\\end{equation}\n",
    "where $\\frac{\\partial v_i}{\\partial n}$ denotes the normal derivative to the occupation density, $v_i$, on the subdomain spanning the interval $(M_{i-1}, M_{i+1})$."
   ]
  },
  {
   "cell_type": "markdown",
   "metadata": {},
   "source": [
    "### Compute the transition matrix and the vector of local mean first passage times.\n",
    "\n",
    "We can use the formulation in terms of the occupation density above to obtain the entries of the transition matrix and the local MFPTs.  In this case, each milestone adopts the role of the reactant with its neighboring milestones becoming the product."
   ]
  },
  {
   "cell_type": "markdown",
   "metadata": {},
   "source": [
    "First, we initialize the transition matrix and the vector that will contain the local MFPTs."
   ]
  },
  {
   "cell_type": "code",
   "execution_count": 8,
   "metadata": {
    "collapsed": true
   },
   "outputs": [],
   "source": [
    "K = np.zeros((M, M))\n",
    "K[-1, 0] = 1\n",
    "\n",
    "t = np.zeros((M,))"
   ]
  },
  {
   "cell_type": "markdown",
   "metadata": {},
   "source": [
    "Next, we fill the entries of the transition matrix and compute the local MFPTs."
   ]
  },
  {
   "cell_type": "code",
   "execution_count": 9,
   "metadata": {
    "collapsed": false
   },
   "outputs": [
    {
     "name": "stdout",
     "output_type": "stream",
     "text": [
      "Computing results for milestone #0 (x = -1.0000)\n",
      "Computing results for milestone #1 (x = -0.5625)\n",
      "Computing results for milestone #2 (x = -0.1250)\n",
      "Computing results for milestone #3 (x = 0.3125)\n",
      "Done.\n"
     ]
    }
   ],
   "source": [
    "dx = 1e-3\n",
    "\n",
    "for i, m in enumerate(milestones[:-1]):\n",
    "    if i == 0:\n",
    "        ai = a\n",
    "    else:\n",
    "        ai = milestones[i-1]\n",
    "    bi = milestones[i+1]\n",
    "    zi = milestones[i]\n",
    "\n",
    "    print('Computing results for milestone #{} (x = {:.4f})'.format(i, zi))\n",
    "\n",
    "    vi = milestoning.OccupationDensity(potential, beta, ai, bi, zi)\n",
    "\n",
    "    y_prev = vi(ai + dx)\n",
    "    y_next = vi(bi - dx)\n",
    "    total = y_prev + y_next\n",
    "    if i > 0:\n",
    "        K[i, i-1] = y_prev / total\n",
    "    K[i, i+1] = y_next / total\n",
    "    \n",
    "    t[i] = scipy.integrate.quad(vi, ai, bi, full_output=1, points=[zi])[0]\n",
    "\n",
    "print('Done.')"
   ]
  },
  {
   "cell_type": "markdown",
   "metadata": {},
   "source": [
    "### Compute the stationary flux vector.\n",
    "\n",
    "Now that we have the transition matrix and the local mean first passage times, all that remains is to compute the stationary flux vector."
   ]
  },
  {
   "cell_type": "code",
   "execution_count": 10,
   "metadata": {
    "collapsed": false
   },
   "outputs": [
    {
     "name": "stdout",
     "output_type": "stream",
     "text": [
      "[[ 0.      1.      0.      0.      0.    ]\n",
      " [ 0.6369  0.      0.3631  0.      0.    ]\n",
      " [ 0.      0.5376  0.      0.4624  0.    ]\n",
      " [ 0.      0.      0.3423  0.      0.6577]\n",
      " [ 1.      0.      0.      0.      0.    ]]\n"
     ]
    }
   ],
   "source": [
    "print(K)"
   ]
  },
  {
   "cell_type": "code",
   "execution_count": 11,
   "metadata": {
    "collapsed": false
   },
   "outputs": [
    {
     "name": "stdout",
     "output_type": "stream",
     "text": [
      "[ 1.0000+0.j     -0.7503+0.0527j -0.7503-0.0527j  0.2503+0.364j\n",
      "  0.2503-0.364j ]\n"
     ]
    }
   ],
   "source": [
    "eigenvalues, eigenvectors = np.linalg.eig(K.T)\n",
    "print(eigenvalues)"
   ]
  },
  {
   "cell_type": "markdown",
   "metadata": {},
   "source": [
    "The dominant eigenvalue (the spectral radius) is equal to one.  The stationary flux vector is the unique eigenvector corresponding to the dominant eigenvalue."
   ]
  },
  {
   "cell_type": "code",
   "execution_count": 12,
   "metadata": {
    "collapsed": false
   },
   "outputs": [
    {
     "name": "stdout",
     "output_type": "stream",
     "text": [
      "[ 0.3036  0.3952  0.1705  0.0788  0.0519]\n"
     ]
    }
   ],
   "source": [
    "dominant_eigenvalue_index = np.abs(eigenvalues - 1.0).argmin()\n",
    "q = np.real(eigenvectors[:, dominant_eigenvalue_index])\n",
    "q = q / np.linalg.norm(q, 1) * np.sign(sum(q))\n",
    "print(q)"
   ]
  },
  {
   "cell_type": "code",
   "execution_count": 13,
   "metadata": {
    "collapsed": false
   },
   "outputs": [
    {
     "data": {
      "image/png": "[encoded data removed]",
      "text/plain": [
       "<matplotlib.figure.Figure at 0x7f4aab53f5f8>"
      ]
     },
     "metadata": {},
     "output_type": "display_data"
    }
   ],
   "source": [
    "plt.plot(milestones, q, 'o-')\n",
    "plt.xlabel('$x$')\n",
    "plt.ylabel('Stationary flux')\n",
    "plt.show()"
   ]
  },
  {
   "cell_type": "markdown",
   "metadata": {},
   "source": [
    "The (global) mean first passage time can be readily obtained from the stationary flux vector and the local MFPTs."
   ]
  },
  {
   "cell_type": "code",
   "execution_count": 14,
   "metadata": {
    "collapsed": false
   },
   "outputs": [
    {
     "name": "stdout",
     "output_type": "stream",
     "text": [
      "MFPT (milestoning): 2.638157217847497\n",
      "MFPT (reference): 2.636350336714919\n"
     ]
    }
   ],
   "source": [
    "mfpt_milestoning = np.dot(q, t) / q[-1]\n",
    "print('MFPT (milestoning): {}\\n'\n",
    "      'MFPT (reference): {}'\n",
    "      .format(mfpt_milestoning, mfpt_reference))"
   ]
  },
  {
   "cell_type": "markdown",
   "metadata": {},
   "source": [
    "## Comparison with the true occupation density."
   ]
  },
  {
   "cell_type": "code",
   "execution_count": 15,
   "metadata": {
    "collapsed": false
   },
   "outputs": [
    {
     "data": {
      "image/png": "[encoded data removed]",
      "text/plain": [
       "<matplotlib.figure.Figure at 0x7f4aab40dd68>"
      ]
     },
     "metadata": {},
     "output_type": "display_data"
    }
   ],
   "source": [
    "m = milestones\n",
    "dm = np.diff(milestones)[0]\n",
    "\n",
    "p = np.multiply(q, t)\n",
    "p /= np.trapz(x=m, y=p, dx=dm)\n",
    "\n",
    "x = np.linspace(a, b, 100)\n",
    "\n",
    "alpha = v(m[-2]) / p[-2]\n",
    "\n",
    "plt.plot(m[1:], alpha * p[1:], 'o-')\n",
    "plt.plot(x, v(x))\n",
    "plt.show()"
   ]
  },
  {
   "cell_type": "markdown",
   "metadata": {
    "collapsed": true
   },
   "source": [
    "## Comparison between the local MFPTs to those obtained by simulation using trajectories and those obtained by the quadrature formula."
   ]
  },
  {
   "cell_type": "code",
   "execution_count": 16,
   "metadata": {
    "collapsed": false
   },
   "outputs": [
    {
     "name": "stdout",
     "output_type": "stream",
     "text": [
      "Local MFPT at milestone #0 (x = -1.0000): 0.2742 (Brownian dynamics) / 0.2628 (quadrature)\n",
      "Local MFPT at milestone #1 (x = -0.5625): 0.0981 (Brownian dynamics) / 0.0914 (quadrature)\n",
      "Local MFPT at milestone #2 (x = -0.1250): 0.0915 (Brownian dynamics) / 0.0861 (quadrature)\n",
      "Local MFPT at milestone #3 (x = 0.3125): 0.0758 (Brownian dynamics) / 0.0783 (quadrature)\n",
      "Done.\n"
     ]
    }
   ],
   "source": [
    "from timestepper import FirstPassageTime\n",
    "\n",
    "dt = 1e-4\n",
    "num_trajectories = 1000\n",
    "\n",
    "for i, m in enumerate(milestones[:-1]):\n",
    "    if i == 0:\n",
    "        ai = a\n",
    "    else:\n",
    "        ai = milestones[i-1]\n",
    "    bi = milestones[i+1]\n",
    "    zi = milestones[i]\n",
    "  \n",
    "    fpt = FirstPassageTime(potential, beta, dt, zi, ai, bi)\n",
    "    mfpt = fpt.mean(num_trajectories)[0]\n",
    "    print('Local MFPT at milestone #{} (x = {:.4f}): {:.4f} (Brownian dynamics) / {:.4f} (quadrature)'\n",
    "          .format(i, zi, mfpt, t[i]))\n",
    "    \n",
    "print('Done.')"
   ]
  },
  {
   "cell_type": "code",
   "execution_count": null,
   "metadata": {
    "collapsed": true
   },
   "outputs": [],
   "source": []
  }
 ],
 "metadata": {
  "anaconda-cloud": {},
  "kernelspec": {
   "display_name": "Python [default]",
   "language": "python",
   "name": "python3"
  },
  "language_info": {
   "codemirror_mode": {
    "name": "ipython",
    "version": 3
   },
   "file_extension": ".py",
   "mimetype": "text/x-python",
   "name": "python",
   "nbconvert_exporter": "python",
   "pygments_lexer": "ipython3",
   "version": "3.5.2"
  }
 },
 "nbformat": 4,
 "nbformat_minor": 0
}
